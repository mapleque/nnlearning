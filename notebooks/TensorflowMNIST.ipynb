{
  "nbformat": 4,
  "nbformat_minor": 0,
  "metadata": {
    "colab": {
      "name": "TensorflowMNIST.ipynb",
      "provenance": [],
      "include_colab_link": true
    },
    "kernelspec": {
      "name": "python3",
      "display_name": "Python 3"
    },
    "accelerator": "GPU"
  },
  "cells": [
    {
      "cell_type": "markdown",
      "metadata": {
        "id": "view-in-github",
        "colab_type": "text"
      },
      "source": [
        "<a href=\"https://colab.research.google.com/github/mapleque/nnlearning/blob/master/notebooks/TensorflowMNIST.ipynb\" target=\"_parent\"><img src=\"https://colab.research.google.com/assets/colab-badge.svg\" alt=\"Open In Colab\"/></a>"
      ]
    },
    {
      "cell_type": "code",
      "metadata": {
        "id": "eXTFaj5aD3tx",
        "colab_type": "code",
        "colab": {}
      },
      "source": [
        "from __future__ import absolute_import, division, print_function, unicode_literals\n",
        "import tensorflow as tf"
      ],
      "execution_count": 0,
      "outputs": []
    },
    {
      "cell_type": "code",
      "metadata": {
        "id": "Jz7pcCl8EQ-W",
        "colab_type": "code",
        "colab": {}
      },
      "source": [
        "mnist = tf.keras.datasets.mnist\n"
      ],
      "execution_count": 0,
      "outputs": []
    },
    {
      "cell_type": "code",
      "metadata": {
        "id": "r0ckxfpwEXvd",
        "colab_type": "code",
        "colab": {
          "base_uri": "https://localhost:8080/",
          "height": 51
        },
        "outputId": "0f8ef48b-58db-45c1-becb-e54e3862a4f7"
      },
      "source": [
        "(x_train, y_train), (x_test, y_test) = mnist.load_data()\n",
        "x_train, x_test = x_train / 255.0, x_test / 255.0"
      ],
      "execution_count": 4,
      "outputs": [
        {
          "output_type": "stream",
          "text": [
            "Downloading data from https://storage.googleapis.com/tensorflow/tf-keras-datasets/mnist.npz\n",
            "11493376/11490434 [==============================] - 0s 0us/step\n"
          ],
          "name": "stdout"
        }
      ]
    },
    {
      "cell_type": "code",
      "metadata": {
        "id": "EK-H8GZWE_Yi",
        "colab_type": "code",
        "colab": {
          "base_uri": "https://localhost:8080/",
          "height": 88
        },
        "outputId": "a7715fb4-2e06-4ff1-b48e-c863a3cc09cc"
      },
      "source": [
        "model = tf.keras.models.Sequential([\n",
        "  tf.keras.layers.Flatten(input_shape=(28, 28)),\n",
        "  tf.keras.layers.Dense(128, activation='relu'),\n",
        "  tf.keras.layers.Dropout(0.2),\n",
        "  tf.keras.layers.Dense(10, activation='softmax')\n",
        "])\n",
        "\n",
        "model.compile(optimizer='adam',\n",
        "              loss='sparse_categorical_crossentropy',\n",
        "              metrics=['accuracy'])"
      ],
      "execution_count": 11,
      "outputs": [
        {
          "output_type": "stream",
          "text": [
            "WARNING:tensorflow:From /usr/local/lib/python3.6/dist-packages/tensorflow_core/python/ops/resource_variable_ops.py:1630: calling BaseResourceVariable.__init__ (from tensorflow.python.ops.resource_variable_ops) with constraint is deprecated and will be removed in a future version.\n",
            "Instructions for updating:\n",
            "If using Keras pass *_constraint arguments to layers.\n"
          ],
          "name": "stdout"
        }
      ]
    },
    {
      "cell_type": "code",
      "metadata": {
        "id": "Lt3bi0aLFzEZ",
        "colab_type": "code",
        "colab": {
          "base_uri": "https://localhost:8080/",
          "height": 221
        },
        "outputId": "77d30189-8e1e-44e4-a775-c6d4eaa5749d"
      },
      "source": [
        "model.fit(x_train, y_train, epochs=5)"
      ],
      "execution_count": 12,
      "outputs": [
        {
          "output_type": "stream",
          "text": [
            "Train on 60000 samples\n",
            "Epoch 1/5\n",
            "60000/60000 [==============================] - 6s 103us/sample - loss: 0.2994 - acc: 0.9118\n",
            "Epoch 2/5\n",
            "60000/60000 [==============================] - 5s 89us/sample - loss: 0.1411 - acc: 0.9577\n",
            "Epoch 3/5\n",
            "60000/60000 [==============================] - 6s 93us/sample - loss: 0.1061 - acc: 0.9680\n",
            "Epoch 4/5\n",
            "60000/60000 [==============================] - 5s 90us/sample - loss: 0.0865 - acc: 0.9732\n",
            "Epoch 5/5\n",
            "60000/60000 [==============================] - 5s 91us/sample - loss: 0.0744 - acc: 0.9768\n"
          ],
          "name": "stdout"
        },
        {
          "output_type": "execute_result",
          "data": {
            "text/plain": [
              "<tensorflow.python.keras.callbacks.History at 0x7f5d65dc7f60>"
            ]
          },
          "metadata": {
            "tags": []
          },
          "execution_count": 12
        }
      ]
    },
    {
      "cell_type": "code",
      "metadata": {
        "id": "xFBZZFFZF-Ra",
        "colab_type": "code",
        "colab": {
          "base_uri": "https://localhost:8080/",
          "height": 51
        },
        "outputId": "0bd33543-14bc-4036-a3f9-521f72a683cc"
      },
      "source": [
        "model.evaluate(x_test,  y_test, verbose=2)"
      ],
      "execution_count": 13,
      "outputs": [
        {
          "output_type": "stream",
          "text": [
            "10000/10000 - 1s - loss: 0.0737 - acc: 0.9773\n"
          ],
          "name": "stdout"
        },
        {
          "output_type": "execute_result",
          "data": {
            "text/plain": [
              "[0.07374064571647905, 0.9773]"
            ]
          },
          "metadata": {
            "tags": []
          },
          "execution_count": 13
        }
      ]
    },
    {
      "cell_type": "code",
      "metadata": {
        "id": "3HyLKW6ZGylp",
        "colab_type": "code",
        "colab": {
          "base_uri": "https://localhost:8080/",
          "height": 340
        },
        "outputId": "9633cbf6-4880-443a-85e2-d8f43f2e70f0"
      },
      "source": [
        "dir(tf.keras.datasets)"
      ],
      "execution_count": 14,
      "outputs": [
        {
          "output_type": "execute_result",
          "data": {
            "text/plain": [
              "['__all__',\n",
              " '__builtins__',\n",
              " '__cached__',\n",
              " '__doc__',\n",
              " '__file__',\n",
              " '__loader__',\n",
              " '__name__',\n",
              " '__package__',\n",
              " '__path__',\n",
              " '__spec__',\n",
              " '_module_wrapper',\n",
              " '_sys',\n",
              " 'boston_housing',\n",
              " 'cifar10',\n",
              " 'cifar100',\n",
              " 'fashion_mnist',\n",
              " 'imdb',\n",
              " 'mnist',\n",
              " 'reuters']"
            ]
          },
          "metadata": {
            "tags": []
          },
          "execution_count": 14
        }
      ]
    },
    {
      "cell_type": "code",
      "metadata": {
        "id": "vM4rQh1qHgy3",
        "colab_type": "code",
        "colab": {}
      },
      "source": [
        "from tensorflow import keras\n",
        "import numpy as np\n",
        "import matplotlib.pyplot as plt"
      ],
      "execution_count": 0,
      "outputs": []
    },
    {
      "cell_type": "code",
      "metadata": {
        "id": "nXRkTDKYHkjQ",
        "colab_type": "code",
        "colab": {
          "base_uri": "https://localhost:8080/",
          "height": 269
        },
        "outputId": "54a130e1-9689-4dcb-9fd3-d524c15dd965"
      },
      "source": [
        "plt.figure()\n",
        "plt.imshow(x_train[0])\n",
        "plt.colorbar()\n",
        "plt.grid(False)\n",
        "plt.show()"
      ],
      "execution_count": 22,
      "outputs": [
        {
          "output_type": "display_data",
          "data": {
            "image/png": "[encoded data removed]",
            "text/plain": [
              "<Figure size 432x288 with 2 Axes>"
            ]
          },
          "metadata": {
            "tags": []
          }
        }
      ]
    },
    {
      "cell_type": "code",
      "metadata": {
        "id": "_mRfl0BKH3Xg",
        "colab_type": "code",
        "colab": {
          "base_uri": "https://localhost:8080/",
          "height": 34
        },
        "outputId": "9de7c352-aa76-41ec-f8a3-abb7fe87a5e7"
      },
      "source": [
        "y_train"
      ],
      "execution_count": 21,
      "outputs": [
        {
          "output_type": "execute_result",
          "data": {
            "text/plain": [
              "array([5, 0, 4, ..., 5, 6, 8], dtype=uint8)"
            ]
          },
          "metadata": {
            "tags": []
          },
          "execution_count": 21
        }
      ]
    },
    {
      "cell_type": "code",
      "metadata": {
        "id": "mbWynQGMIbF3",
        "colab_type": "code",
        "colab": {
          "base_uri": "https://localhost:8080/",
          "height": 306
        },
        "outputId": "dae4fed1-ce95-4173-b61e-1c7df3c900d4"
      },
      "source": [
        "from __future__ import absolute_import, division, print_function, unicode_literals\n",
        "import tensorflow as tf\n",
        "from tensorflow import keras\n",
        "import numpy as np\n",
        "import matplotlib.pyplot as plt\n",
        "\n",
        "(x_train, y_train), (x_test, y_test) = keras.datasets.mnist.load_data()\n",
        "x_train, x_test = x_train / 255.0, x_test / 255.0\n",
        "plt.figure(figsize=(5,5))\n",
        "for i in range(100):\n",
        "  plt.subplot(10,10,i+1)\n",
        "  plt.xticks([])\n",
        "  plt.yticks([])\n",
        "  plt.grid(False)\n",
        "  plt.imshow(x_train[i], cmap=plt.cm.binary)\n",
        "  #plt.xlabel(str(y_train[i]))\n",
        "plt.show()"
      ],
      "execution_count": 5,
      "outputs": [
        {
          "output_type": "display_data",
          "data": {
            "image/png": "[encoded data removed]",
            "text/plain": [
              "<Figure size 360x360 with 100 Axes>"
            ]
          },
          "metadata": {
            "tags": []
          }
        }
      ]
    },
    {
      "cell_type": "code",
      "metadata": {
        "id": "olPTCdAZiOr4",
        "colab_type": "code",
        "colab": {
          "base_uri": "https://localhost:8080/",
          "height": 425
        },
        "outputId": "762251e0-f9d1-41e3-9af0-90b292b8f6b6"
      },
      "source": [
        "from __future__ import absolute_import, division, print_function, unicode_literals\n",
        "import tensorflow as tf\n",
        "from tensorflow import keras\n",
        "import numpy as np\n",
        "import matplotlib.pyplot as plt\n",
        "\n",
        "(x_train, y_train), (x_test, y_test) = keras.datasets.mnist.load_data()\n",
        "x_train, x_test = x_train / 255.0, x_test / 255.0\n",
        "\n",
        "model = keras.Sequential([\n",
        "    keras.layers.Flatten(input_shape=(28, 28)),\n",
        "    keras.layers.Dense(784, activation='relu'),\n",
        "    keras.layers.Dense(10, activation='softmax')\n",
        "])\n",
        "model.compile(optimizer='adam',\n",
        "              loss='sparse_categorical_crossentropy',\n",
        "              metrics=['accuracy'])\n",
        "\n",
        "model.fit(x_train, y_train, epochs=10)\n",
        "\n",
        "test_loss, test_acc = model.evaluate(x_test,  y_test, verbose=2)\n",
        "\n",
        "\n",
        "print('\\nTest accuracy:', test_acc)"
      ],
      "execution_count": 16,
      "outputs": [
        {
          "output_type": "stream",
          "text": [
            "Train on 60000 samples\n",
            "Epoch 1/10\n",
            "60000/60000 [==============================] - 6s 99us/sample - loss: 0.1900 - acc: 0.9436\n",
            "Epoch 2/10\n",
            "60000/60000 [==============================] - 6s 99us/sample - loss: 0.0747 - acc: 0.9765\n",
            "Epoch 3/10\n",
            "60000/60000 [==============================] - 6s 99us/sample - loss: 0.0487 - acc: 0.9846\n",
            "Epoch 4/10\n",
            "60000/60000 [==============================] - 6s 100us/sample - loss: 0.0359 - acc: 0.9883\n",
            "Epoch 5/10\n",
            "60000/60000 [==============================] - 6s 99us/sample - loss: 0.0261 - acc: 0.9917\n",
            "Epoch 6/10\n",
            "60000/60000 [==============================] - 6s 100us/sample - loss: 0.0196 - acc: 0.9933\n",
            "Epoch 7/10\n",
            "60000/60000 [==============================] - 6s 101us/sample - loss: 0.0159 - acc: 0.9950\n",
            "Epoch 8/10\n",
            "60000/60000 [==============================] - 6s 101us/sample - loss: 0.0149 - acc: 0.9949\n",
            "Epoch 9/10\n",
            "60000/60000 [==============================] - 6s 99us/sample - loss: 0.0132 - acc: 0.9956\n",
            "Epoch 10/10\n",
            "60000/60000 [==============================] - 6s 98us/sample - loss: 0.0113 - acc: 0.9960\n",
            "10000/10000 - 1s - loss: 0.0889 - acc: 0.9803\n",
            "\n",
            "Test accuracy: 0.9803\n"
          ],
          "name": "stdout"
        }
      ]
    },
    {
      "cell_type": "code",
      "metadata": {
        "id": "EyYC3n1smVdr",
        "colab_type": "code",
        "colab": {
          "base_uri": "https://localhost:8080/",
          "height": 297
        },
        "outputId": "8803d419-a48d-48b2-9bfb-3b0323fe91aa"
      },
      "source": [
        "\n",
        "def plot_image(i, predictions_array, true_label, img):\n",
        "  predictions_array, true_label, img = predictions_array, true_label[i], img[i]\n",
        "  plt.grid(False)\n",
        "  plt.xticks([])\n",
        "  plt.yticks([])\n",
        "\n",
        "  plt.imshow(img, cmap=plt.cm.binary)\n",
        "\n",
        "  predicted_label = np.argmax(predictions_array)\n",
        "  if predicted_label == true_label:\n",
        "    color = 'blue'\n",
        "  else:\n",
        "    color = 'red'\n",
        "\n",
        "  plt.xlabel(\"{} {:2.0f}% ({})\".format(str(predicted_label),\n",
        "                                100*np.max(predictions_array),\n",
        "                                str(true_label)),\n",
        "                                color=color)\n",
        "\n",
        "def plot_value_array(i, predictions_array, true_label):\n",
        "  predictions_array, true_label = predictions_array, true_label[i]\n",
        "  plt.grid(False)\n",
        "  plt.xticks(range(10))\n",
        "  plt.yticks([])\n",
        "  thisplot = plt.bar(range(10), predictions_array, color=\"#777777\")\n",
        "  plt.ylim([0, 1])\n",
        "  predicted_label = np.argmax(predictions_array)\n",
        "\n",
        "  thisplot[predicted_label].set_color('red')\n",
        "  thisplot[true_label].set_color('blue')\n",
        "\n",
        "predictions = model.predict(x_test)\n",
        "\n",
        "num_rows = 5\n",
        "num_cols = 3\n",
        "num_images = num_rows*num_cols\n",
        "for i in range(num_images):\n",
        "  plt.subplot(num_rows, 2*num_cols, 2*i+1)\n",
        "  plot_image(i, predictions[i], y_test, x_test)\n",
        "  plt.subplot(num_rows, 2*num_cols, 2*i+2)\n",
        "  plot_value_array(i, predictions[i], y_test)\n",
        "plt.tight_layout()\n",
        "plt.show()"
      ],
      "execution_count": 10,
      "outputs": [
        {
          "output_type": "display_data",
          "data": {
            "image/png": "[encoded data removed]",
            "text/plain": [
              "<Figure size 432x288 with 30 Axes>"
            ]
          },
          "metadata": {
            "tags": []
          }
        }
      ]
    },
    {
      "cell_type": "code",
      "metadata": {
        "id": "FlpMRE-Nmyj0",
        "colab_type": "code",
        "colab": {
          "base_uri": "https://localhost:8080/",
          "height": 297
        },
        "outputId": "e0ed3055-abe8-49c9-8e53-f92a95361244"
      },
      "source": [
        "wrongs_pre = []\n",
        "wrongs_img = []\n",
        "wrongs_label = []\n",
        "for i in range(len(predictions)):\n",
        "  if np.argmax(predictions[i]) != y_test[i]:\n",
        "    wrongs_pre.append(predictions[i])\n",
        "    wrongs_img.append(x_test[i])\n",
        "    wrongs_label.append(y_test[i])\n",
        "\n",
        "num_rows = 5\n",
        "num_cols = 3\n",
        "num_images = num_rows*num_cols\n",
        "for i in range(num_images):\n",
        "  plt.subplot(num_rows, 2*num_cols, 2*i+1)\n",
        "  plot_image(i, wrongs_pre[i], wrongs_label, wrongs_img)\n",
        "  plt.subplot(num_rows, 2*num_cols, 2*i+2)\n",
        "  plot_value_array(i, wrongs_pre[i], wrongs_label)\n",
        "plt.tight_layout()\n",
        "plt.show()"
      ],
      "execution_count": 17,
      "outputs": [
        {
          "output_type": "display_data",
          "data": {
            "image/png": "[encoded data removed]",
            "text/plain": [
              "<Figure size 432x288 with 30 Axes>"
            ]
          },
          "metadata": {
            "tags": []
          }
        }
      ]
    },
    {
      "cell_type": "code",
      "metadata": {
        "id": "laOZpXtRqY1T",
        "colab_type": "code",
        "colab": {
          "base_uri": "https://localhost:8080/",
          "height": 34
        },
        "outputId": "1f299c86-0bd1-4b82-ebd6-2dab5fc9f91f"
      },
      "source": [
        "len(wrongs_label)"
      ],
      "execution_count": 15,
      "outputs": [
        {
          "output_type": "execute_result",
          "data": {
            "text/plain": [
              "227"
            ]
          },
          "metadata": {
            "tags": []
          },
          "execution_count": 15
        }
      ]
    },
    {
      "cell_type": "code",
      "metadata": {
        "id": "sRLvF8wru14M",
        "colab_type": "code",
        "colab": {
          "base_uri": "https://localhost:8080/",
          "height": 1000
        },
        "outputId": "ab25e63f-c671-4cce-e3df-27cfd04132ba"
      },
      "source": [
        "dir(keras.layers)"
      ],
      "execution_count": 18,
      "outputs": [
        {
          "output_type": "execute_result",
          "data": {
            "text/plain": [
              "['AbstractRNNCell',\n",
              " 'Activation',\n",
              " 'ActivityRegularization',\n",
              " 'Add',\n",
              " 'AdditiveAttention',\n",
              " 'AlphaDropout',\n",
              " 'Attention',\n",
              " 'Average',\n",
              " 'AveragePooling1D',\n",
              " 'AveragePooling2D',\n",
              " 'AveragePooling3D',\n",
              " 'AvgPool1D',\n",
              " 'AvgPool2D',\n",
              " 'AvgPool3D',\n",
              " 'BatchNormalization',\n",
              " 'Bidirectional',\n",
              " 'Concatenate',\n",
              " 'Conv1D',\n",
              " 'Conv2D',\n",
              " 'Conv2DTranspose',\n",
              " 'Conv3D',\n",
              " 'Conv3DTranspose',\n",
              " 'ConvLSTM2D',\n",
              " 'Convolution1D',\n",
              " 'Convolution2D',\n",
              " 'Convolution2DTranspose',\n",
              " 'Convolution3D',\n",
              " 'Convolution3DTranspose',\n",
              " 'Cropping1D',\n",
              " 'Cropping2D',\n",
              " 'Cropping3D',\n",
              " 'CuDNNGRU',\n",
              " 'CuDNNLSTM',\n",
              " 'Dense',\n",
              " 'DenseFeatures',\n",
              " 'DepthwiseConv2D',\n",
              " 'Dot',\n",
              " 'Dropout',\n",
              " 'ELU',\n",
              " 'Embedding',\n",
              " 'Flatten',\n",
              " 'GRU',\n",
              " 'GRUCell',\n",
              " 'GaussianDropout',\n",
              " 'GaussianNoise',\n",
              " 'GlobalAveragePooling1D',\n",
              " 'GlobalAveragePooling2D',\n",
              " 'GlobalAveragePooling3D',\n",
              " 'GlobalAvgPool1D',\n",
              " 'GlobalAvgPool2D',\n",
              " 'GlobalAvgPool3D',\n",
              " 'GlobalMaxPool1D',\n",
              " 'GlobalMaxPool2D',\n",
              " 'GlobalMaxPool3D',\n",
              " 'GlobalMaxPooling1D',\n",
              " 'GlobalMaxPooling2D',\n",
              " 'GlobalMaxPooling3D',\n",
              " 'Input',\n",
              " 'InputLayer',\n",
              " 'InputSpec',\n",
              " 'LSTM',\n",
              " 'LSTMCell',\n",
              " 'Lambda',\n",
              " 'Layer',\n",
              " 'LayerNormalization',\n",
              " 'LeakyReLU',\n",
              " 'LocallyConnected1D',\n",
              " 'LocallyConnected2D',\n",
              " 'Masking',\n",
              " 'MaxPool1D',\n",
              " 'MaxPool2D',\n",
              " 'MaxPool3D',\n",
              " 'MaxPooling1D',\n",
              " 'MaxPooling2D',\n",
              " 'MaxPooling3D',\n",
              " 'Maximum',\n",
              " 'Minimum',\n",
              " 'Multiply',\n",
              " 'PReLU',\n",
              " 'Permute',\n",
              " 'RNN',\n",
              " 'ReLU',\n",
              " 'RepeatVector',\n",
              " 'Reshape',\n",
              " 'SeparableConv1D',\n",
              " 'SeparableConv2D',\n",
              " 'SeparableConvolution1D',\n",
              " 'SeparableConvolution2D',\n",
              " 'SimpleRNN',\n",
              " 'SimpleRNNCell',\n",
              " 'Softmax',\n",
              " 'SpatialDropout1D',\n",
              " 'SpatialDropout2D',\n",
              " 'SpatialDropout3D',\n",
              " 'StackedRNNCells',\n",
              " 'Subtract',\n",
              " 'ThresholdedReLU',\n",
              " 'TimeDistributed',\n",
              " 'UpSampling1D',\n",
              " 'UpSampling2D',\n",
              " 'UpSampling3D',\n",
              " 'Wrapper',\n",
              " 'ZeroPadding1D',\n",
              " 'ZeroPadding2D',\n",
              " 'ZeroPadding3D',\n",
              " '__all__',\n",
              " '__builtins__',\n",
              " '__cached__',\n",
              " '__doc__',\n",
              " '__file__',\n",
              " '__loader__',\n",
              " '__name__',\n",
              " '__package__',\n",
              " '__path__',\n",
              " '__spec__',\n",
              " '_module_wrapper',\n",
              " '_sys',\n",
              " 'add',\n",
              " 'average',\n",
              " 'concatenate',\n",
              " 'deserialize',\n",
              " 'dot',\n",
              " 'maximum',\n",
              " 'minimum',\n",
              " 'multiply',\n",
              " 'serialize',\n",
              " 'subtract']"
            ]
          },
          "metadata": {
            "tags": []
          },
          "execution_count": 18
        }
      ]
    }
  ]
}